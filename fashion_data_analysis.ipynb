{
 "cells": [
  {
   "cell_type": "markdown",
   "metadata": {},
   "source": [
    "# 데이터셋 톺아보기\n",
    "\n",
    "패션, 유통, 전자상거래 도메인과 관련된 데이터셋 몇 가지를 취득하고<br>\n",
    "각 데이터셋의 구조와 항목, 수치 등을 간단하게 분석"
   ]
  },
  {
   "cell_type": "markdown",
   "metadata": {},
   "source": [
    "# Package Install"
   ]
  },
  {
   "cell_type": "code",
   "execution_count": 158,
   "metadata": {},
   "outputs": [],
   "source": [
    "import pandas as pd\n",
    "import matplotlib.pyplot as plt\n",
    "import seaborn as sns"
   ]
  },
  {
   "cell_type": "markdown",
   "metadata": {},
   "source": [
    "## Singapore Fashion Facebook posts\n",
    "\n",
    "출처 : Kaggle\n",
    "\n",
    "[Dataset Link](https://www.kaggle.com/datasets/annguyennt/singapore-fashion-facebook-posts)"
   ]
  },
  {
   "cell_type": "markdown",
   "metadata": {},
   "source": [
    "### Columns\n",
    "\n",
    "* Brand : post를 게시한 브랜드 명\n",
    "* post_id : post를 게시한 facebook ID (비식별화된 것으로 보임)\n",
    "* post_text : 게시된 글\n",
    "* like : 좋아요 표시 갯수\n",
    "* comments : 댓글 갯수\n",
    "* shares : 공유 갯수\n",
    "* post_url : 게시글 URL 주소\n",
    "* sentiment_score : 게시글에 대한 감정분석 점수 (+ : 긍정, - : 부정)\n",
    "* sentiment_magnitude : 게시글에 대한 감정분석 점수 (복합 감정일 경우 점수가 높음)"
   ]
  },
  {
   "cell_type": "code",
   "execution_count": 116,
   "metadata": {},
   "outputs": [
    {
     "data": {
      "text/html": [
       "<div>\n",
       "<style scoped>\n",
       "    .dataframe tbody tr th:only-of-type {\n",
       "        vertical-align: middle;\n",
       "    }\n",
       "\n",
       "    .dataframe tbody tr th {\n",
       "        vertical-align: top;\n",
       "    }\n",
       "\n",
       "    .dataframe thead th {\n",
       "        text-align: right;\n",
       "    }\n",
       "</style>\n",
       "<table border=\"1\" class=\"dataframe\">\n",
       "  <thead>\n",
       "    <tr style=\"text-align: right;\">\n",
       "      <th></th>\n",
       "      <th>Brand</th>\n",
       "      <th>post_id</th>\n",
       "      <th>post_text</th>\n",
       "      <th>time</th>\n",
       "      <th>likes</th>\n",
       "      <th>comments</th>\n",
       "      <th>shares</th>\n",
       "      <th>post_url</th>\n",
       "      <th>sentiment_score</th>\n",
       "      <th>sentiment_magnitude</th>\n",
       "    </tr>\n",
       "  </thead>\n",
       "  <tbody>\n",
       "    <tr>\n",
       "      <th>0</th>\n",
       "      <td>DMK</td>\n",
       "      <td>5.311750e+15</td>\n",
       "      <td>Start on the right foot for your first impress...</td>\n",
       "      <td>2021-04-03 11:36:51</td>\n",
       "      <td>177</td>\n",
       "      <td>0</td>\n",
       "      <td>0</td>\n",
       "      <td>https://facebook.com/DMKShoes/posts/5311745528...</td>\n",
       "      <td>0.2</td>\n",
       "      <td>0.7</td>\n",
       "    </tr>\n",
       "    <tr>\n",
       "      <th>1</th>\n",
       "      <td>DMK</td>\n",
       "      <td>5.307740e+15</td>\n",
       "      <td>Getting that crop top + wide trousers combo ri...</td>\n",
       "      <td>2021-04-02 15:58:02</td>\n",
       "      <td>216</td>\n",
       "      <td>0</td>\n",
       "      <td>0</td>\n",
       "      <td>https://facebook.com/DMKShoes/posts/5307740495...</td>\n",
       "      <td>0.3</td>\n",
       "      <td>0.9</td>\n",
       "    </tr>\n",
       "    <tr>\n",
       "      <th>2</th>\n",
       "      <td>DMK</td>\n",
       "      <td>5.302814e+15</td>\n",
       "      <td>Sweet dreams are made of these - Bubble Dream ...</td>\n",
       "      <td>2021-04-01 16:17:29</td>\n",
       "      <td>385</td>\n",
       "      <td>0</td>\n",
       "      <td>0</td>\n",
       "      <td>https://facebook.com/DMKShoes/posts/5302814246...</td>\n",
       "      <td>0.4</td>\n",
       "      <td>1.2</td>\n",
       "    </tr>\n",
       "    <tr>\n",
       "      <th>3</th>\n",
       "      <td>DMK</td>\n",
       "      <td>5.292993e+15</td>\n",
       "      <td>@annavanticalopez: \"Disney’s CEO, Bob Iger, is...</td>\n",
       "      <td>2021-03-30 15:41:29</td>\n",
       "      <td>214</td>\n",
       "      <td>0</td>\n",
       "      <td>0</td>\n",
       "      <td>https://facebook.com/DMKShoes/posts/5292992840...</td>\n",
       "      <td>0.0</td>\n",
       "      <td>4.5</td>\n",
       "    </tr>\n",
       "    <tr>\n",
       "      <th>4</th>\n",
       "      <td>DMK</td>\n",
       "      <td>5.280722e+15</td>\n",
       "      <td>@annavanticalopez: \"When I first started model...</td>\n",
       "      <td>2021-03-28 11:36:40</td>\n",
       "      <td>118</td>\n",
       "      <td>0</td>\n",
       "      <td>0</td>\n",
       "      <td>https://facebook.com/DMKShoes/posts/5280721625...</td>\n",
       "      <td>0.0</td>\n",
       "      <td>3.4</td>\n",
       "    </tr>\n",
       "  </tbody>\n",
       "</table>\n",
       "</div>"
      ],
      "text/plain": [
       "  Brand       post_id                                          post_text  \\\n",
       "0   DMK  5.311750e+15  Start on the right foot for your first impress...   \n",
       "1   DMK  5.307740e+15  Getting that crop top + wide trousers combo ri...   \n",
       "2   DMK  5.302814e+15  Sweet dreams are made of these - Bubble Dream ...   \n",
       "3   DMK  5.292993e+15  @annavanticalopez: \"Disney’s CEO, Bob Iger, is...   \n",
       "4   DMK  5.280722e+15  @annavanticalopez: \"When I first started model...   \n",
       "\n",
       "                  time  likes  comments  shares  \\\n",
       "0  2021-04-03 11:36:51    177         0       0   \n",
       "1  2021-04-02 15:58:02    216         0       0   \n",
       "2  2021-04-01 16:17:29    385         0       0   \n",
       "3  2021-03-30 15:41:29    214         0       0   \n",
       "4  2021-03-28 11:36:40    118         0       0   \n",
       "\n",
       "                                            post_url  sentiment_score  \\\n",
       "0  https://facebook.com/DMKShoes/posts/5311745528...              0.2   \n",
       "1  https://facebook.com/DMKShoes/posts/5307740495...              0.3   \n",
       "2  https://facebook.com/DMKShoes/posts/5302814246...              0.4   \n",
       "3  https://facebook.com/DMKShoes/posts/5292992840...              0.0   \n",
       "4  https://facebook.com/DMKShoes/posts/5280721625...              0.0   \n",
       "\n",
       "   sentiment_magnitude  \n",
       "0                  0.7  \n",
       "1                  0.9  \n",
       "2                  1.2  \n",
       "3                  4.5  \n",
       "4                  3.4  "
      ]
     },
     "execution_count": 116,
     "metadata": {},
     "output_type": "execute_result"
    }
   ],
   "source": [
    "df = pd.read_csv('datasets/facebook_post.csv')\n",
    "\n",
    "df.head()"
   ]
  },
  {
   "cell_type": "code",
   "execution_count": 117,
   "metadata": {},
   "outputs": [
    {
     "data": {
      "text/plain": [
       "4010"
      ]
     },
     "execution_count": 117,
     "metadata": {},
     "output_type": "execute_result"
    }
   ],
   "source": [
    "len(df)"
   ]
  },
  {
   "cell_type": "code",
   "execution_count": 118,
   "metadata": {},
   "outputs": [
    {
     "data": {
      "text/plain": [
       "Brand                     0\n",
       "post_id                   1\n",
       "post_text              1416\n",
       "time                      0\n",
       "likes                     0\n",
       "comments                  0\n",
       "shares                    0\n",
       "post_url                  1\n",
       "sentiment_score        1531\n",
       "sentiment_magnitude    1531\n",
       "dtype: int64"
      ]
     },
     "execution_count": 118,
     "metadata": {},
     "output_type": "execute_result"
    }
   ],
   "source": [
    "df.isnull().sum()"
   ]
  },
  {
   "cell_type": "code",
   "execution_count": 123,
   "metadata": {},
   "outputs": [
    {
     "data": {
      "text/plain": [
       "2594"
      ]
     },
     "execution_count": 123,
     "metadata": {},
     "output_type": "execute_result"
    }
   ],
   "source": [
    "df.dropna(subset=['post_text'], inplace=True)\n",
    "df.reset_index(inplace=True)\n",
    "\n",
    "len(df)"
   ]
  },
  {
   "cell_type": "code",
   "execution_count": 124,
   "metadata": {},
   "outputs": [],
   "source": [
    "tmp = []\n",
    "\n",
    "for d in df.post_text.values:\n",
    "    tmp.append(len(d))\n",
    "\n",
    "df['post_text_len'] = tmp"
   ]
  },
  {
   "cell_type": "code",
   "execution_count": 148,
   "metadata": {},
   "outputs": [
    {
     "data": {
      "text/plain": [
       "array([[<Axes: >, <Axes: >],\n",
       "       [<Axes: >, <Axes: >]], dtype=object)"
      ]
     },
     "execution_count": 148,
     "metadata": {},
     "output_type": "execute_result"
    },
    {
     "data": {
      "image/png": "[encoded data removed]",
      "text/plain": [
       "<Figure size 1500x500 with 4 Axes>"
      ]
     },
     "metadata": {},
     "output_type": "display_data"
    }
   ],
   "source": [
    "df_vs = df[['post_text_len', 'likes', 'comments', 'shares']]\n",
    "\n",
    "df_vs.plot(subplots=True, layout=(2,2), figsize=(15,5))"
   ]
  },
  {
   "cell_type": "code",
   "execution_count": 159,
   "metadata": {},
   "outputs": [
    {
     "name": "stderr",
     "output_type": "stream",
     "text": [
      "/var/folders/9c/d9bwhd_11tqdj2jhtjf0wmh80000gn/T/ipykernel_97339/830037972.py:1: UserWarning: \n",
      "\n",
      "`distplot` is a deprecated function and will be removed in seaborn v0.14.0.\n",
      "\n",
      "Please adapt your code to use either `displot` (a figure-level function with\n",
      "similar flexibility) or `histplot` (an axes-level function for histograms).\n",
      "\n",
      "For a guide to updating your code to use the new functions, please see\n",
      "https://gist.github.com/mwaskom/de44147ed2974457ad6372750bbe5751\n",
      "\n",
      "  sns.distplot(df.sentiment_score)\n"
     ]
    },
    {
     "data": {
      "text/plain": [
       "<Axes: xlabel='sentiment_score', ylabel='Density'>"
      ]
     },
     "execution_count": 159,
     "metadata": {},
     "output_type": "execute_result"
    },
    {
     "data": {
      "image/png": "[encoded data removed]",
      "text/plain": [
       "<Figure size 640x480 with 1 Axes>"
      ]
     },
     "metadata": {},
     "output_type": "display_data"
    }
   ],
   "source": [
    "sns.distplot(df.sentiment_score)"
   ]
  },
  {
   "cell_type": "markdown",
   "metadata": {},
   "source": [
    "## Fashion Retail Sales\n",
    "\n",
    "출처 : Kaggle\n",
    "\n",
    "[Dataset Link](https://www.kaggle.com/datasets/fekihmea/fashion-retail-sales)"
   ]
  },
  {
   "cell_type": "markdown",
   "metadata": {},
   "source": [
    "### Columns\n",
    "\n",
    "* Customer Reference ID\n",
    "* Item Purchased\n",
    "* Purchase Amount (USD)\n",
    "* Date Purchase\n",
    "* Review Rating\n",
    "* Payment Method"
   ]
  },
  {
   "cell_type": "code",
   "execution_count": 160,
   "metadata": {},
   "outputs": [
    {
     "data": {
      "text/html": [
       "<div>\n",
       "<style scoped>\n",
       "    .dataframe tbody tr th:only-of-type {\n",
       "        vertical-align: middle;\n",
       "    }\n",
       "\n",
       "    .dataframe tbody tr th {\n",
       "        vertical-align: top;\n",
       "    }\n",
       "\n",
       "    .dataframe thead th {\n",
       "        text-align: right;\n",
       "    }\n",
       "</style>\n",
       "<table border=\"1\" class=\"dataframe\">\n",
       "  <thead>\n",
       "    <tr style=\"text-align: right;\">\n",
       "      <th></th>\n",
       "      <th>Customer Reference ID</th>\n",
       "      <th>Item Purchased</th>\n",
       "      <th>Purchase Amount (USD)</th>\n",
       "      <th>Date Purchase</th>\n",
       "      <th>Review Rating</th>\n",
       "      <th>Payment Method</th>\n",
       "    </tr>\n",
       "  </thead>\n",
       "  <tbody>\n",
       "    <tr>\n",
       "      <th>0</th>\n",
       "      <td>4018</td>\n",
       "      <td>Handbag</td>\n",
       "      <td>4619.0</td>\n",
       "      <td>2023-02-05</td>\n",
       "      <td>NaN</td>\n",
       "      <td>Credit Card</td>\n",
       "    </tr>\n",
       "    <tr>\n",
       "      <th>1</th>\n",
       "      <td>4115</td>\n",
       "      <td>Tunic</td>\n",
       "      <td>2456.0</td>\n",
       "      <td>2023-07-11</td>\n",
       "      <td>2.0</td>\n",
       "      <td>Credit Card</td>\n",
       "    </tr>\n",
       "    <tr>\n",
       "      <th>2</th>\n",
       "      <td>4019</td>\n",
       "      <td>Tank Top</td>\n",
       "      <td>2102.0</td>\n",
       "      <td>2023-03-23</td>\n",
       "      <td>4.1</td>\n",
       "      <td>Cash</td>\n",
       "    </tr>\n",
       "    <tr>\n",
       "      <th>3</th>\n",
       "      <td>4097</td>\n",
       "      <td>Leggings</td>\n",
       "      <td>3126.0</td>\n",
       "      <td>2023-03-15</td>\n",
       "      <td>3.2</td>\n",
       "      <td>Cash</td>\n",
       "    </tr>\n",
       "    <tr>\n",
       "      <th>4</th>\n",
       "      <td>3997</td>\n",
       "      <td>Wallet</td>\n",
       "      <td>3003.0</td>\n",
       "      <td>2022-11-27</td>\n",
       "      <td>4.7</td>\n",
       "      <td>Cash</td>\n",
       "    </tr>\n",
       "  </tbody>\n",
       "</table>\n",
       "</div>"
      ],
      "text/plain": [
       "   Customer Reference ID Item Purchased  Purchase Amount (USD) Date Purchase  \\\n",
       "0                   4018        Handbag                 4619.0    2023-02-05   \n",
       "1                   4115          Tunic                 2456.0    2023-07-11   \n",
       "2                   4019       Tank Top                 2102.0    2023-03-23   \n",
       "3                   4097       Leggings                 3126.0    2023-03-15   \n",
       "4                   3997         Wallet                 3003.0    2022-11-27   \n",
       "\n",
       "   Review Rating Payment Method  \n",
       "0            NaN    Credit Card  \n",
       "1            2.0    Credit Card  \n",
       "2            4.1           Cash  \n",
       "3            3.2           Cash  \n",
       "4            4.7           Cash  "
      ]
     },
     "execution_count": 160,
     "metadata": {},
     "output_type": "execute_result"
    }
   ],
   "source": [
    "df = pd.read_csv('datasets/Fashion_Retail_Sales.csv')\n",
    "\n",
    "df.head()"
   ]
  },
  {
   "cell_type": "code",
   "execution_count": 163,
   "metadata": {},
   "outputs": [
    {
     "data": {
      "text/plain": [
       "3400"
      ]
     },
     "execution_count": 163,
     "metadata": {},
     "output_type": "execute_result"
    }
   ],
   "source": [
    "len(df)"
   ]
  },
  {
   "cell_type": "code",
   "execution_count": 161,
   "metadata": {},
   "outputs": [
    {
     "data": {
      "text/plain": [
       "Customer Reference ID      0\n",
       "Item Purchased             0\n",
       "Purchase Amount (USD)    650\n",
       "Date Purchase              0\n",
       "Review Rating            324\n",
       "Payment Method             0\n",
       "dtype: int64"
      ]
     },
     "execution_count": 161,
     "metadata": {},
     "output_type": "execute_result"
    }
   ],
   "source": [
    "df.isnull().sum()"
   ]
  },
  {
   "cell_type": "code",
   "execution_count": 169,
   "metadata": {},
   "outputs": [
    {
     "data": {
      "text/html": [
       "<div>\n",
       "<style scoped>\n",
       "    .dataframe tbody tr th:only-of-type {\n",
       "        vertical-align: middle;\n",
       "    }\n",
       "\n",
       "    .dataframe tbody tr th {\n",
       "        vertical-align: top;\n",
       "    }\n",
       "\n",
       "    .dataframe thead th {\n",
       "        text-align: right;\n",
       "    }\n",
       "</style>\n",
       "<table border=\"1\" class=\"dataframe\">\n",
       "  <thead>\n",
       "    <tr style=\"text-align: right;\">\n",
       "      <th></th>\n",
       "      <th>Customer Reference ID</th>\n",
       "      <th>Item Purchased</th>\n",
       "      <th>Purchase Amount (USD)</th>\n",
       "      <th>Date Purchase</th>\n",
       "      <th>Review Rating</th>\n",
       "      <th>Payment Method</th>\n",
       "    </tr>\n",
       "  </thead>\n",
       "  <tbody>\n",
       "    <tr>\n",
       "      <th>0</th>\n",
       "      <td>4018</td>\n",
       "      <td>Handbag</td>\n",
       "      <td>4619.0</td>\n",
       "      <td>2023-02-05</td>\n",
       "      <td>NaN</td>\n",
       "      <td>Credit Card</td>\n",
       "    </tr>\n",
       "    <tr>\n",
       "      <th>14</th>\n",
       "      <td>4044</td>\n",
       "      <td>Handbag</td>\n",
       "      <td>2122.0</td>\n",
       "      <td>2023-08-01</td>\n",
       "      <td>1.2</td>\n",
       "      <td>Credit Card</td>\n",
       "    </tr>\n",
       "    <tr>\n",
       "      <th>83</th>\n",
       "      <td>4067</td>\n",
       "      <td>Handbag</td>\n",
       "      <td>38.0</td>\n",
       "      <td>2023-05-25</td>\n",
       "      <td>3.1</td>\n",
       "      <td>Cash</td>\n",
       "    </tr>\n",
       "    <tr>\n",
       "      <th>90</th>\n",
       "      <td>4054</td>\n",
       "      <td>Handbag</td>\n",
       "      <td>12.0</td>\n",
       "      <td>2022-12-29</td>\n",
       "      <td>2.6</td>\n",
       "      <td>Credit Card</td>\n",
       "    </tr>\n",
       "    <tr>\n",
       "      <th>118</th>\n",
       "      <td>4073</td>\n",
       "      <td>Handbag</td>\n",
       "      <td>165.0</td>\n",
       "      <td>2023-09-28</td>\n",
       "      <td>3.0</td>\n",
       "      <td>Credit Card</td>\n",
       "    </tr>\n",
       "    <tr>\n",
       "      <th>...</th>\n",
       "      <td>...</td>\n",
       "      <td>...</td>\n",
       "      <td>...</td>\n",
       "      <td>...</td>\n",
       "      <td>...</td>\n",
       "      <td>...</td>\n",
       "    </tr>\n",
       "    <tr>\n",
       "      <th>3151</th>\n",
       "      <td>4102</td>\n",
       "      <td>Handbag</td>\n",
       "      <td>NaN</td>\n",
       "      <td>2023-06-18</td>\n",
       "      <td>1.0</td>\n",
       "      <td>Cash</td>\n",
       "    </tr>\n",
       "    <tr>\n",
       "      <th>3293</th>\n",
       "      <td>4028</td>\n",
       "      <td>Handbag</td>\n",
       "      <td>NaN</td>\n",
       "      <td>2023-05-21</td>\n",
       "      <td>NaN</td>\n",
       "      <td>Credit Card</td>\n",
       "    </tr>\n",
       "    <tr>\n",
       "      <th>3302</th>\n",
       "      <td>4093</td>\n",
       "      <td>Handbag</td>\n",
       "      <td>24.0</td>\n",
       "      <td>2022-10-02</td>\n",
       "      <td>2.8</td>\n",
       "      <td>Credit Card</td>\n",
       "    </tr>\n",
       "    <tr>\n",
       "      <th>3322</th>\n",
       "      <td>4056</td>\n",
       "      <td>Handbag</td>\n",
       "      <td>87.0</td>\n",
       "      <td>2023-01-16</td>\n",
       "      <td>2.5</td>\n",
       "      <td>Credit Card</td>\n",
       "    </tr>\n",
       "    <tr>\n",
       "      <th>3356</th>\n",
       "      <td>4116</td>\n",
       "      <td>Handbag</td>\n",
       "      <td>150.0</td>\n",
       "      <td>2023-04-04</td>\n",
       "      <td>4.2</td>\n",
       "      <td>Cash</td>\n",
       "    </tr>\n",
       "  </tbody>\n",
       "</table>\n",
       "<p>72 rows × 6 columns</p>\n",
       "</div>"
      ],
      "text/plain": [
       "      Customer Reference ID Item Purchased  Purchase Amount (USD)  \\\n",
       "0                      4018        Handbag                 4619.0   \n",
       "14                     4044        Handbag                 2122.0   \n",
       "83                     4067        Handbag                   38.0   \n",
       "90                     4054        Handbag                   12.0   \n",
       "118                    4073        Handbag                  165.0   \n",
       "...                     ...            ...                    ...   \n",
       "3151                   4102        Handbag                    NaN   \n",
       "3293                   4028        Handbag                    NaN   \n",
       "3302                   4093        Handbag                   24.0   \n",
       "3322                   4056        Handbag                   87.0   \n",
       "3356                   4116        Handbag                  150.0   \n",
       "\n",
       "     Date Purchase  Review Rating Payment Method  \n",
       "0       2023-02-05            NaN    Credit Card  \n",
       "14      2023-08-01            1.2    Credit Card  \n",
       "83      2023-05-25            3.1           Cash  \n",
       "90      2022-12-29            2.6    Credit Card  \n",
       "118     2023-09-28            3.0    Credit Card  \n",
       "...            ...            ...            ...  \n",
       "3151    2023-06-18            1.0           Cash  \n",
       "3293    2023-05-21            NaN    Credit Card  \n",
       "3302    2022-10-02            2.8    Credit Card  \n",
       "3322    2023-01-16            2.5    Credit Card  \n",
       "3356    2023-04-04            4.2           Cash  \n",
       "\n",
       "[72 rows x 6 columns]"
      ]
     },
     "execution_count": 169,
     "metadata": {},
     "output_type": "execute_result"
    }
   ],
   "source": [
    "tmp = df[df['Item Purchased'] == str('Handbag')]\n",
    "\n",
    "tmp"
   ]
  },
  {
   "cell_type": "code",
   "execution_count": 176,
   "metadata": {},
   "outputs": [
    {
     "data": {
      "text/html": [
       "<div>\n",
       "<style scoped>\n",
       "    .dataframe tbody tr th:only-of-type {\n",
       "        vertical-align: middle;\n",
       "    }\n",
       "\n",
       "    .dataframe tbody tr th {\n",
       "        vertical-align: top;\n",
       "    }\n",
       "\n",
       "    .dataframe thead th {\n",
       "        text-align: right;\n",
       "    }\n",
       "</style>\n",
       "<table border=\"1\" class=\"dataframe\">\n",
       "  <thead>\n",
       "    <tr style=\"text-align: right;\">\n",
       "      <th></th>\n",
       "      <th>Item Purchased</th>\n",
       "      <th>Total Sales</th>\n",
       "    </tr>\n",
       "  </thead>\n",
       "  <tbody>\n",
       "    <tr>\n",
       "      <th>0</th>\n",
       "      <td>Handbag</td>\n",
       "      <td>12668.0</td>\n",
       "    </tr>\n",
       "    <tr>\n",
       "      <th>1</th>\n",
       "      <td>Tunic</td>\n",
       "      <td>17275.0</td>\n",
       "    </tr>\n",
       "    <tr>\n",
       "      <th>2</th>\n",
       "      <td>Tank Top</td>\n",
       "      <td>8296.0</td>\n",
       "    </tr>\n",
       "    <tr>\n",
       "      <th>3</th>\n",
       "      <td>Leggings</td>\n",
       "      <td>8087.0</td>\n",
       "    </tr>\n",
       "    <tr>\n",
       "      <th>4</th>\n",
       "      <td>Wallet</td>\n",
       "      <td>9372.0</td>\n",
       "    </tr>\n",
       "  </tbody>\n",
       "</table>\n",
       "</div>"
      ],
      "text/plain": [
       "  Item Purchased  Total Sales\n",
       "0        Handbag      12668.0\n",
       "1          Tunic      17275.0\n",
       "2       Tank Top       8296.0\n",
       "3       Leggings       8087.0\n",
       "4         Wallet       9372.0"
      ]
     },
     "execution_count": 176,
     "metadata": {},
     "output_type": "execute_result"
    }
   ],
   "source": [
    "row_list = []\n",
    "# total_df = pd.DataFrame(columns=['Item Purchased', 'Total Sales'])\n",
    "\n",
    "for d in df['Item Purchased'].unique():\n",
    "    tmp = df[df['Item Purchased'] == str(d)]\n",
    "    income = tmp['Purchase Amount (USD)'].sum()\n",
    "    dict1 = {\n",
    "        'Item Purchased' : d,\n",
    "        'Total Sales' : income\n",
    "    }\n",
    "    row_list.append(dict1)\n",
    "    # print(f'{d} 총 매출 : {income}')\n",
    "\n",
    "total_df = pd.DataFrame(row_list)\n",
    "\n",
    "total_df.head()"
   ]
  },
  {
   "cell_type": "code",
   "execution_count": null,
   "metadata": {},
   "outputs": [],
   "source": []
  }
 ],
 "metadata": {
  "kernelspec": {
   "display_name": "evidently",
   "language": "python",
   "name": "python3"
  },
  "language_info": {
   "codemirror_mode": {
    "name": "ipython",
    "version": 3
   },
   "file_extension": ".py",
   "mimetype": "text/x-python",
   "name": "python",
   "nbconvert_exporter": "python",
   "pygments_lexer": "ipython3",
   "version": "3.8.15"
  }
 },
 "nbformat": 4,
 "nbformat_minor": 2
}
